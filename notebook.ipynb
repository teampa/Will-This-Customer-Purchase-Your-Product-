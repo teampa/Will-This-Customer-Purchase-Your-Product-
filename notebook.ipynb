{
 "cells": [
  {
   "cell_type": "markdown",
   "id": "67065ba3-366a-4275-ba63-22c0e066d136",
   "metadata": {},
   "source": [
    "<img src=\"rupixen-Q59HmzK38eQ-unsplash.jpg\" alt=\"Someone is trying to purchase a produce online\" width=\"500\"/>"
   ]
  },
  {
   "cell_type": "markdown",
   "id": "fe2cbf96-ad4d-4165-8981-1b301108f5bc",
   "metadata": {
    "jupyter": {
     "outputs_hidden": false,
     "source_hidden": false
    }
   },
   "source": [
    "Online shopping decisions rely on how consumers engage with online store content. You work for a new startup company that has just launched a new online shopping website. The marketing team asks you, a new data scientist, to review a dataset of online shoppers' purchasing intentions gathered over the last year. Specifically, the team wants you to generate some insights into customer browsing behaviors in November and December, the busiest months for shoppers. You have decided to identify two groups of customers: those with a low purchase rate and returning customers. After identifying these groups, you want to determine the probability that any of these customers will make a purchase in a new marketing campaign to help gauge potential success for next year's sales.\n",
    "\n",
    "### Data description:\n",
    "\n",
    "You are given an `online_shopping_session_data.csv` that contains several columns about each shopping session. Each shopping session corresponded to a single user. \n",
    "\n",
    "|Column|Description|\n",
    "|--------|-----------|\n",
    "|`SessionID`|unique session ID|\n",
    "|`Administrative`|number of pages visited related to the customer account|\n",
    "|`Administrative_Duration`|total amount of time spent (in seconds) on administrative pages|\n",
    "|`Informational`|number of pages visited related to the website and the company|\n",
    "|`Informational_Duration`|total amount of time spent (in seconds) on informational pages|\n",
    "|`ProductRelated`|number of pages visited related to available products|\n",
    "|`ProductRelated_Duration`|total amount of time spent (in seconds) on product-related pages|\n",
    "|`BounceRates`|average bounce rate of pages visited by the customer|\n",
    "|`ExitRates`|average exit rate of pages visited by the customer|\n",
    "|`PageValues`|average page value of pages visited by the customer|\n",
    "|`SpecialDay`|closeness of the site visiting time to a specific special day|\n",
    "|`Weekend`|indicator whether the session is on a weekend|\n",
    "|`Month`|month of the session date|\n",
    "|`CustomerType`|customer type|\n",
    "|`Purchase`|class label whether the customer make a purchase|"
   ]
  },
  {
   "cell_type": "code",
   "execution_count": 1,
   "id": "b841fb9f-4e70-4796-9f35-7c6bbba3cca2",
   "metadata": {
    "executionCancelledAt": null,
    "executionTime": 58,
    "lastExecutedAt": 1732063601790,
    "lastExecutedByKernel": "035367b2-8d10-4697-958d-5c0735fc5023",
    "lastScheduledRunId": null,
    "lastSuccessfullyExecutedCode": "# Import required libraries\nimport pandas as pd\nimport numpy as np\nimport matplotlib.pyplot as plt\nfrom scipy import stats\n\n# Load and view your data\nshopping_data = pd.read_csv(\"online_shopping_session_data.csv\")\nshopping_data.head()",
    "outputsMetadata": {
     "0": {
      "height": 222,
      "type": "dataFrame"
     }
    }
   },
   "outputs": [
    {
     "data": {
      "text/html": [
       "<div>\n",
       "<style scoped>\n",
       "    .dataframe tbody tr th:only-of-type {\n",
       "        vertical-align: middle;\n",
       "    }\n",
       "\n",
       "    .dataframe tbody tr th {\n",
       "        vertical-align: top;\n",
       "    }\n",
       "\n",
       "    .dataframe thead th {\n",
       "        text-align: right;\n",
       "    }\n",
       "</style>\n",
       "<table border=\"1\" class=\"dataframe\">\n",
       "  <thead>\n",
       "    <tr style=\"text-align: right;\">\n",
       "      <th></th>\n",
       "      <th>SessionID</th>\n",
       "      <th>Administrative</th>\n",
       "      <th>Administrative_Duration</th>\n",
       "      <th>Informational</th>\n",
       "      <th>Informational_Duration</th>\n",
       "      <th>ProductRelated</th>\n",
       "      <th>ProductRelated_Duration</th>\n",
       "      <th>BounceRates</th>\n",
       "      <th>ExitRates</th>\n",
       "      <th>PageValues</th>\n",
       "      <th>SpecialDay</th>\n",
       "      <th>Weekend</th>\n",
       "      <th>Month</th>\n",
       "      <th>CustomerType</th>\n",
       "      <th>Purchase</th>\n",
       "    </tr>\n",
       "  </thead>\n",
       "  <tbody>\n",
       "    <tr>\n",
       "      <th>0</th>\n",
       "      <td>1</td>\n",
       "      <td>0</td>\n",
       "      <td>0.0</td>\n",
       "      <td>0</td>\n",
       "      <td>0.0</td>\n",
       "      <td>1</td>\n",
       "      <td>0.000000</td>\n",
       "      <td>0.20</td>\n",
       "      <td>0.20</td>\n",
       "      <td>0.0</td>\n",
       "      <td>0.0</td>\n",
       "      <td>False</td>\n",
       "      <td>Feb</td>\n",
       "      <td>Returning_Customer</td>\n",
       "      <td>0.0</td>\n",
       "    </tr>\n",
       "    <tr>\n",
       "      <th>1</th>\n",
       "      <td>2</td>\n",
       "      <td>0</td>\n",
       "      <td>0.0</td>\n",
       "      <td>0</td>\n",
       "      <td>0.0</td>\n",
       "      <td>2</td>\n",
       "      <td>64.000000</td>\n",
       "      <td>0.00</td>\n",
       "      <td>0.10</td>\n",
       "      <td>0.0</td>\n",
       "      <td>0.0</td>\n",
       "      <td>False</td>\n",
       "      <td>Feb</td>\n",
       "      <td>Returning_Customer</td>\n",
       "      <td>0.0</td>\n",
       "    </tr>\n",
       "    <tr>\n",
       "      <th>2</th>\n",
       "      <td>3</td>\n",
       "      <td>0</td>\n",
       "      <td>0.0</td>\n",
       "      <td>0</td>\n",
       "      <td>0.0</td>\n",
       "      <td>1</td>\n",
       "      <td>0.000000</td>\n",
       "      <td>0.20</td>\n",
       "      <td>0.20</td>\n",
       "      <td>0.0</td>\n",
       "      <td>0.0</td>\n",
       "      <td>False</td>\n",
       "      <td>Feb</td>\n",
       "      <td>Returning_Customer</td>\n",
       "      <td>0.0</td>\n",
       "    </tr>\n",
       "    <tr>\n",
       "      <th>3</th>\n",
       "      <td>4</td>\n",
       "      <td>0</td>\n",
       "      <td>0.0</td>\n",
       "      <td>0</td>\n",
       "      <td>0.0</td>\n",
       "      <td>2</td>\n",
       "      <td>2.666667</td>\n",
       "      <td>0.05</td>\n",
       "      <td>0.14</td>\n",
       "      <td>0.0</td>\n",
       "      <td>0.0</td>\n",
       "      <td>False</td>\n",
       "      <td>Feb</td>\n",
       "      <td>Returning_Customer</td>\n",
       "      <td>0.0</td>\n",
       "    </tr>\n",
       "    <tr>\n",
       "      <th>4</th>\n",
       "      <td>5</td>\n",
       "      <td>0</td>\n",
       "      <td>0.0</td>\n",
       "      <td>0</td>\n",
       "      <td>0.0</td>\n",
       "      <td>10</td>\n",
       "      <td>627.500000</td>\n",
       "      <td>0.02</td>\n",
       "      <td>0.05</td>\n",
       "      <td>0.0</td>\n",
       "      <td>0.0</td>\n",
       "      <td>True</td>\n",
       "      <td>Feb</td>\n",
       "      <td>Returning_Customer</td>\n",
       "      <td>0.0</td>\n",
       "    </tr>\n",
       "  </tbody>\n",
       "</table>\n",
       "</div>"
      ],
      "text/plain": [
       "   SessionID  Administrative  Administrative_Duration  Informational  \\\n",
       "0          1               0                      0.0              0   \n",
       "1          2               0                      0.0              0   \n",
       "2          3               0                      0.0              0   \n",
       "3          4               0                      0.0              0   \n",
       "4          5               0                      0.0              0   \n",
       "\n",
       "   Informational_Duration  ProductRelated  ProductRelated_Duration  \\\n",
       "0                     0.0               1                 0.000000   \n",
       "1                     0.0               2                64.000000   \n",
       "2                     0.0               1                 0.000000   \n",
       "3                     0.0               2                 2.666667   \n",
       "4                     0.0              10               627.500000   \n",
       "\n",
       "   BounceRates  ExitRates  PageValues  SpecialDay  Weekend Month  \\\n",
       "0         0.20       0.20         0.0         0.0    False   Feb   \n",
       "1         0.00       0.10         0.0         0.0    False   Feb   \n",
       "2         0.20       0.20         0.0         0.0    False   Feb   \n",
       "3         0.05       0.14         0.0         0.0    False   Feb   \n",
       "4         0.02       0.05         0.0         0.0     True   Feb   \n",
       "\n",
       "         CustomerType  Purchase  \n",
       "0  Returning_Customer       0.0  \n",
       "1  Returning_Customer       0.0  \n",
       "2  Returning_Customer       0.0  \n",
       "3  Returning_Customer       0.0  \n",
       "4  Returning_Customer       0.0  "
      ]
     },
     "execution_count": 1,
     "metadata": {},
     "output_type": "execute_result"
    }
   ],
   "source": [
    "# Import required libraries\n",
    "import pandas as pd\n",
    "import numpy as np\n",
    "import matplotlib.pyplot as plt\n",
    "from scipy import stats\n",
    "\n",
    "# Load and view your data\n",
    "shopping_data = pd.read_csv(\"online_shopping_session_data.csv\")\n",
    "shopping_data.head()"
   ]
  },
  {
   "cell_type": "code",
   "execution_count": 7,
   "id": "2fd7809b-b635-4db1-9d56-29391ff1cb00",
   "metadata": {
    "executionCancelledAt": null,
    "executionTime": 6109,
    "lastExecutedAt": 1732063601732,
    "lastExecutedByKernel": "035367b2-8d10-4697-958d-5c0735fc5023",
    "lastScheduledRunId": null,
    "lastSuccessfullyExecutedCode": "# Start your code here!\n# Use as many cells as you like\n\n# Import required libraries\nimport pandas as pd\nimport numpy as np\nimport matplotlib.pyplot as plt\nfrom scipy import stats\n\n# Load and preview data\nshopping_data = pd.read_csv(\"online_shopping_session_data.csv\")\nshopping_data.head()\n\n## Calculate the online purchase rates during online shopping sessions by customer type for November and December.\n# Subset dataframe for November and December data\nshopping_Nov_Dec = shopping_data[shopping_data['Month'].isin(['Nov', 'Dec'])]\n\n# Preview to make sure the subset is correct\nprint(shopping_Nov_Dec.head())\n\n# Make sure we only have November and December data\nprint(shopping_Nov_Dec['Month'].unique())\n\n# Get session frequency stats by CustomerType and Purchase\ncount_session = shopping_Nov_Dec.groupby(['CustomerType'])['Purchase'].value_counts()\nprint(count_session)\n\n# Total number of session by CustomerType\ntotal_new_customer = np.sum(count_session['New_Customer'])\ntotal_returning_customer = np.sum(count_session['Returning_Customer'])\n\n# Total number of purchase by CustomerType\npurchase_new_customer = count_session[('New_Customer', 1)]\npurchase_returning_customer = count_session[('Returning_Customer', 1)]\n\n# Calculate purchase rates\npurchase_rate_new = purchase_new_customer / total_new_customer\npurchase_rate_returning = purchase_returning_customer / total_returning_customer\n\n# Therefore, the online purchase for the returning customers is lower than that of the new customers.\npurchase_rates = {\"Returning_Customer\": purchase_rate_returning, \"New_Customer\": purchase_rate_new}\nprint(purchase_rates)\n\n## Identify the strongest correlation in total time spent between different types of pages visited by the returning customers during the months of November and December. \n# Calculate correlation with pandas\ncor_admin_info = shopping_Nov_Dec['Administrative_Duration'].corr(shopping_Nov_Dec['Informational_Duration'])\ncor_admin_product = shopping_Nov_Dec['Administrative_Duration'].corr(shopping_Nov_Dec['ProductRelated_Duration'])\ncor_product_info = shopping_Nov_Dec['ProductRelated_Duration'].corr(shopping_Nov_Dec['Informational_Duration'])\n\nprint(cor_admin_info)\nprint(cor_admin_product)\nprint(cor_product_info)\n\n# Another way to solve this is to use Scipy pearsonr function\n# cor_admin_info = stats.pearsonr(shopping_Nov_Dec['Administrative_Duration'], shopping_Nov_Dec['Informational_Duration'])\n\n# Another way to solve this is to use Pandas correlation matrix\n# shopping_Nov_Dec[['Administrative_Duration','Informational_Duration','ProductRelated_Duration' ]].corr()\n\n# Store top correlation\ntop_correlation = {\"pair\": ('Administrative_Duration', 'ProductRelated_Duration'), \"correlation\": cor_admin_product}\nprint(top_correlation)\n\n## A new campaign for the returning customers will boost the purchase rate by 15%. \n## What is the likelihood of achieving at least 100 sales out of 500 online shopping sessions for the returning customers?\n\n# Purchase is a binomial random variable taking the value of either 0 or 1\n# We know that the current purchase rate for the returning customers is\nprint(\"Current purchase rate for the returning customer:\", purchase_rate_returning)\n\n# 15% Increase in this rate would be\nincreased_purchase_rate_returning = 1.15 * purchase_rate_returning\nprint(\"Increased purchase rate for the returning customer:\", increased_purchase_rate_returning)\n\n# First, we find the likelihood of having <100 sales of 500 sessions\n# We can find this from binomial cdf\nprob_sales_100_less = stats.binom.cdf(k=100, n=500, p=increased_purchase_rate_returning)\nprint(\"probability of having <100 sales:\", prob_sales_100_less)\n\n# Then, to find the probability of having 100 or more sales is 1-prob_sales_100_less\nprob_at_least_100_sales = 1 - prob_sales_100_less\nprint(\"probability of having at least 100 sales:\", prob_at_least_100_sales)\n\n# Plotting the binomial probability distribution\nn_sessions = 500\nk_values = np.arange(500) + 1\np_binom_values = [stats.binom.pmf(k, n_sessions, increased_purchase_rate_returning) for k in k_values ] \nplt.bar(k_values, p_binom_values) \nplt.vlines(100, 0, 0.08, color='r', linestyle='dashed', label=\"sales=100\")\nplt.xlabel(\"number of sales\")\nplt.ylabel(\"probability\")\nplt.legend()\nplt.show()",
    "outputsMetadata": {
     "0": {
      "height": 559,
      "type": "stream"
     }
    }
   },
   "outputs": [
    {
     "data": {
      "text/html": [
       "<div>\n",
       "<style scoped>\n",
       "    .dataframe tbody tr th:only-of-type {\n",
       "        vertical-align: middle;\n",
       "    }\n",
       "\n",
       "    .dataframe tbody tr th {\n",
       "        vertical-align: top;\n",
       "    }\n",
       "\n",
       "    .dataframe thead th {\n",
       "        text-align: right;\n",
       "    }\n",
       "</style>\n",
       "<table border=\"1\" class=\"dataframe\">\n",
       "  <thead>\n",
       "    <tr style=\"text-align: right;\">\n",
       "      <th></th>\n",
       "      <th>SessionID</th>\n",
       "      <th>Administrative</th>\n",
       "      <th>Administrative_Duration</th>\n",
       "      <th>Informational</th>\n",
       "      <th>Informational_Duration</th>\n",
       "      <th>ProductRelated</th>\n",
       "      <th>ProductRelated_Duration</th>\n",
       "      <th>BounceRates</th>\n",
       "      <th>ExitRates</th>\n",
       "      <th>PageValues</th>\n",
       "      <th>SpecialDay</th>\n",
       "      <th>Weekend</th>\n",
       "      <th>Month</th>\n",
       "      <th>CustomerType</th>\n",
       "      <th>Purchase</th>\n",
       "    </tr>\n",
       "  </thead>\n",
       "  <tbody>\n",
       "    <tr>\n",
       "      <th>5463</th>\n",
       "      <td>5464</td>\n",
       "      <td>1</td>\n",
       "      <td>39.2</td>\n",
       "      <td>2</td>\n",
       "      <td>120.8</td>\n",
       "      <td>7</td>\n",
       "      <td>80.500000</td>\n",
       "      <td>0.000000</td>\n",
       "      <td>0.010000</td>\n",
       "      <td>0.000000</td>\n",
       "      <td>0.0</td>\n",
       "      <td>True</td>\n",
       "      <td>Nov</td>\n",
       "      <td>New_Customer</td>\n",
       "      <td>0.0</td>\n",
       "    </tr>\n",
       "    <tr>\n",
       "      <th>5464</th>\n",
       "      <td>5465</td>\n",
       "      <td>3</td>\n",
       "      <td>89.6</td>\n",
       "      <td>0</td>\n",
       "      <td>0.0</td>\n",
       "      <td>57</td>\n",
       "      <td>1721.906667</td>\n",
       "      <td>0.000000</td>\n",
       "      <td>0.005932</td>\n",
       "      <td>204.007949</td>\n",
       "      <td>0.0</td>\n",
       "      <td>True</td>\n",
       "      <td>Nov</td>\n",
       "      <td>Returning_Customer</td>\n",
       "      <td>1.0</td>\n",
       "    </tr>\n",
       "    <tr>\n",
       "      <th>5467</th>\n",
       "      <td>5468</td>\n",
       "      <td>4</td>\n",
       "      <td>204.2</td>\n",
       "      <td>0</td>\n",
       "      <td>0.0</td>\n",
       "      <td>31</td>\n",
       "      <td>652.376667</td>\n",
       "      <td>0.012121</td>\n",
       "      <td>0.016162</td>\n",
       "      <td>0.000000</td>\n",
       "      <td>0.0</td>\n",
       "      <td>False</td>\n",
       "      <td>Nov</td>\n",
       "      <td>Returning_Customer</td>\n",
       "      <td>0.0</td>\n",
       "    </tr>\n",
       "    <tr>\n",
       "      <th>5479</th>\n",
       "      <td>5480</td>\n",
       "      <td>0</td>\n",
       "      <td>0.0</td>\n",
       "      <td>0</td>\n",
       "      <td>0.0</td>\n",
       "      <td>13</td>\n",
       "      <td>710.066667</td>\n",
       "      <td>0.000000</td>\n",
       "      <td>0.007692</td>\n",
       "      <td>72.522838</td>\n",
       "      <td>0.0</td>\n",
       "      <td>False</td>\n",
       "      <td>Nov</td>\n",
       "      <td>Returning_Customer</td>\n",
       "      <td>1.0</td>\n",
       "    </tr>\n",
       "    <tr>\n",
       "      <th>5494</th>\n",
       "      <td>5495</td>\n",
       "      <td>0</td>\n",
       "      <td>0.0</td>\n",
       "      <td>0</td>\n",
       "      <td>0.0</td>\n",
       "      <td>24</td>\n",
       "      <td>968.692424</td>\n",
       "      <td>0.000000</td>\n",
       "      <td>0.000000</td>\n",
       "      <td>106.252517</td>\n",
       "      <td>0.0</td>\n",
       "      <td>False</td>\n",
       "      <td>Nov</td>\n",
       "      <td>Returning_Customer</td>\n",
       "      <td>1.0</td>\n",
       "    </tr>\n",
       "  </tbody>\n",
       "</table>\n",
       "</div>"
      ],
      "text/plain": [
       "      SessionID  Administrative  Administrative_Duration  Informational  \\\n",
       "5463       5464               1                     39.2              2   \n",
       "5464       5465               3                     89.6              0   \n",
       "5467       5468               4                    204.2              0   \n",
       "5479       5480               0                      0.0              0   \n",
       "5494       5495               0                      0.0              0   \n",
       "\n",
       "      Informational_Duration  ProductRelated  ProductRelated_Duration  \\\n",
       "5463                   120.8               7                80.500000   \n",
       "5464                     0.0              57              1721.906667   \n",
       "5467                     0.0              31               652.376667   \n",
       "5479                     0.0              13               710.066667   \n",
       "5494                     0.0              24               968.692424   \n",
       "\n",
       "      BounceRates  ExitRates  PageValues  SpecialDay  Weekend Month  \\\n",
       "5463     0.000000   0.010000    0.000000         0.0     True   Nov   \n",
       "5464     0.000000   0.005932  204.007949         0.0     True   Nov   \n",
       "5467     0.012121   0.016162    0.000000         0.0    False   Nov   \n",
       "5479     0.000000   0.007692   72.522838         0.0    False   Nov   \n",
       "5494     0.000000   0.000000  106.252517         0.0    False   Nov   \n",
       "\n",
       "            CustomerType  Purchase  \n",
       "5463        New_Customer       0.0  \n",
       "5464  Returning_Customer       1.0  \n",
       "5467  Returning_Customer       0.0  \n",
       "5479  Returning_Customer       1.0  \n",
       "5494  Returning_Customer       1.0  "
      ]
     },
     "execution_count": 7,
     "metadata": {},
     "output_type": "execute_result"
    }
   ],
   "source": [
    "# Import required libraries\n",
    "import pandas as pd\n",
    "import numpy as np\n",
    "import matplotlib.pyplot as plt\n",
    "from scipy import stats\n",
    "\n",
    "\n",
    "## Calculate the online purchase rates during online shopping sessions by customer type for November and December.\n",
    "# Subset dataframe for November and December data\n",
    "shopping_Nov_Dec = shopping_data[shopping_data['Month'].isin(['Nov', 'Dec'])]\n",
    "\n",
    "# Preview to make sure the subset is correct\n",
    "shopping_Nov_Dec.head()\n"
   ]
  },
  {
   "cell_type": "code",
   "execution_count": 8,
   "id": "7af64989",
   "metadata": {},
   "outputs": [
    {
     "name": "stdout",
     "output_type": "stream",
     "text": [
      "CustomerType        Purchase\n",
      "New_Customer        0.0          529\n",
      "                    1.0          199\n",
      "Returning_Customer  0.0         2994\n",
      "                    1.0          728\n",
      "Name: count, dtype: int64\n"
     ]
    }
   ],
   "source": [
    "# Get session frequency stats by CustomerType and Purchase\n",
    "count_session = shopping_Nov_Dec.groupby(['CustomerType'])['Purchase'].value_counts()\n",
    "print(count_session)"
   ]
  },
  {
   "cell_type": "code",
   "execution_count": 9,
   "id": "ee33c094",
   "metadata": {},
   "outputs": [
    {
     "data": {
      "image/png": "[encoded data removed]",
      "text/plain": [
       "<Figure size 800x600 with 1 Axes>"
      ]
     },
     "metadata": {},
     "output_type": "display_data"
    }
   ],
   "source": [
    "counts = {\n",
    "    'New_Customer': [529, 199],  # Purchase=0.0, Purchase=1.0\n",
    "    'Returning_Customer': [2994, 728]\n",
    "}\n",
    "labels = ['No Purchase', 'Purchase']\n",
    "customer_types = ['New_Customer', 'Returning_Customer']\n",
    "\n",
    "# Convert data into a DataFrame for easier handling\n",
    "df_counts = pd.DataFrame(counts, index=labels)\n",
    "\n",
    "# Create a grouped bar chart\n",
    "fig, ax = plt.subplots(figsize=(8, 6))\n",
    "df_counts.T.plot(kind='bar', stacked=False, ax=ax, color=['skyblue', 'salmon'])\n",
    "\n",
    "# Customize the plot\n",
    "plt.title(\"Purchase Counts by Customer Type\", fontsize=16)\n",
    "plt.xlabel(\"Customer Type\", fontsize=12)\n",
    "plt.ylabel(\"Number of Sessions\", fontsize=12)\n",
    "plt.xticks(rotation=0, fontsize=11)\n",
    "plt.yticks(fontsize=11)\n",
    "plt.legend(title=\"Purchase Status\", fontsize=11)\n",
    "plt.grid(axis='y', linestyle='--', alpha=0.7)\n",
    "\n",
    "# Add data labels\n",
    "for i, bar_group in enumerate(ax.containers):\n",
    "    for bar in bar_group:\n",
    "        height = bar.get_height()\n",
    "        if height > 0:\n",
    "            ax.text(bar.get_x() + bar.get_width() / 2, height + 50, f'{int(height)}', ha='center', fontsize=10)\n",
    "\n",
    "plt.tight_layout()\n",
    "plt.show()"
   ]
  },
  {
   "cell_type": "code",
   "execution_count": 10,
   "id": "e9ee0993",
   "metadata": {},
   "outputs": [
    {
     "name": "stdout",
     "output_type": "stream",
     "text": [
      "{'Returning_Customer': 0.1955937667920473, 'New_Customer': 0.2733516483516483}\n"
     ]
    }
   ],
   "source": [
    "# Total number of session by CustomerType\n",
    "total_new_customer = np.sum(count_session['New_Customer'])\n",
    "total_returning_customer = np.sum(count_session['Returning_Customer'])\n",
    "\n",
    "# Total number of purchase by CustomerType\n",
    "purchase_new_customer = count_session[('New_Customer', 1)]\n",
    "purchase_returning_customer = count_session[('Returning_Customer', 1)]\n",
    "\n",
    "# Calculate purchase rates\n",
    "purchase_rate_new = purchase_new_customer / total_new_customer\n",
    "purchase_rate_returning = purchase_returning_customer / total_returning_customer\n",
    "\n",
    "# Therefore, the online purchase for the returning customers is lower than that of the new customers.\n",
    "purchase_rates = {\"Returning_Customer\": purchase_rate_returning, \"New_Customer\": purchase_rate_new}\n",
    "print(purchase_rates)"
   ]
  },
  {
   "cell_type": "code",
   "execution_count": 13,
   "id": "7bf864bd",
   "metadata": {},
   "outputs": [
    {
     "data": {
      "text/html": [
       "<div>\n",
       "<style scoped>\n",
       "    .dataframe tbody tr th:only-of-type {\n",
       "        vertical-align: middle;\n",
       "    }\n",
       "\n",
       "    .dataframe tbody tr th {\n",
       "        vertical-align: top;\n",
       "    }\n",
       "\n",
       "    .dataframe thead th {\n",
       "        text-align: right;\n",
       "    }\n",
       "</style>\n",
       "<table border=\"1\" class=\"dataframe\">\n",
       "  <thead>\n",
       "    <tr style=\"text-align: right;\">\n",
       "      <th></th>\n",
       "      <th>Administrative_Duration</th>\n",
       "      <th>Informational_Duration</th>\n",
       "      <th>ProductRelated_Duration</th>\n",
       "    </tr>\n",
       "  </thead>\n",
       "  <tbody>\n",
       "    <tr>\n",
       "      <th>Administrative_Duration</th>\n",
       "      <td>1.000000</td>\n",
       "      <td>0.244689</td>\n",
       "      <td>0.389855</td>\n",
       "    </tr>\n",
       "    <tr>\n",
       "      <th>Informational_Duration</th>\n",
       "      <td>0.244689</td>\n",
       "      <td>1.000000</td>\n",
       "      <td>0.367126</td>\n",
       "    </tr>\n",
       "    <tr>\n",
       "      <th>ProductRelated_Duration</th>\n",
       "      <td>0.389855</td>\n",
       "      <td>0.367126</td>\n",
       "      <td>1.000000</td>\n",
       "    </tr>\n",
       "  </tbody>\n",
       "</table>\n",
       "</div>"
      ],
      "text/plain": [
       "                         Administrative_Duration  Informational_Duration  \\\n",
       "Administrative_Duration                 1.000000                0.244689   \n",
       "Informational_Duration                  0.244689                1.000000   \n",
       "ProductRelated_Duration                 0.389855                0.367126   \n",
       "\n",
       "                         ProductRelated_Duration  \n",
       "Administrative_Duration                 0.389855  \n",
       "Informational_Duration                  0.367126  \n",
       "ProductRelated_Duration                 1.000000  "
      ]
     },
     "execution_count": 13,
     "metadata": {},
     "output_type": "execute_result"
    }
   ],
   "source": [
    "## Identify the strongest correlation in total time spent between different types of pages visited by the returning customers during the months of November and December. \n",
    "shopping_Nov_Dec[['Administrative_Duration','Informational_Duration','ProductRelated_Duration' ]].corr()"
   ]
  },
  {
   "cell_type": "code",
   "execution_count": 14,
   "id": "77276749",
   "metadata": {},
   "outputs": [
    {
     "name": "stdout",
     "output_type": "stream",
     "text": [
      "{'pair': ('Administrative_Duration', 'ProductRelated_Duration'), 'correlation': 0.3898546003206961}\n"
     ]
    }
   ],
   "source": [
    "# Store top correlation\n",
    "top_correlation = {\"pair\": ('Administrative_Duration', 'ProductRelated_Duration'), \"correlation\": cor_admin_product}\n",
    "print(top_correlation)"
   ]
  },
  {
   "cell_type": "markdown",
   "id": "cbf1180e",
   "metadata": {},
   "source": [
    "### A new campaign for the returning customers will boost the purchase rate by 15%. \n",
    "### What is the likelihood of achieving at least 100 sales out of 500 online shopping sessions for the returning customers?"
   ]
  },
  {
   "cell_type": "code",
   "execution_count": 15,
   "id": "3b6e1524",
   "metadata": {},
   "outputs": [
    {
     "name": "stdout",
     "output_type": "stream",
     "text": [
      "Current purchase rate for the returning customer: 0.1955937667920473\n"
     ]
    }
   ],
   "source": [
    "# Purchase is a binomial random variable taking the value of either 0 or 1\n",
    "# We know that the current purchase rate for the returning customers is\n",
    "print(\"Current purchase rate for the returning customer:\", purchase_rate_returning)"
   ]
  },
  {
   "cell_type": "code",
   "execution_count": 16,
   "id": "1ec091db",
   "metadata": {},
   "outputs": [
    {
     "name": "stdout",
     "output_type": "stream",
     "text": [
      "Increased purchase rate for the returning customer: 0.22493283181085436\n"
     ]
    }
   ],
   "source": [
    "# 15% Increase in this rate would be\n",
    "increased_purchase_rate_returning = 1.15 * purchase_rate_returning\n",
    "print(\"Increased purchase rate for the returning customer:\", increased_purchase_rate_returning)"
   ]
  },
  {
   "cell_type": "code",
   "execution_count": 17,
   "id": "134d44eb",
   "metadata": {},
   "outputs": [
    {
     "name": "stdout",
     "output_type": "stream",
     "text": [
      "probability of having <100 sales: 0.09877786609627337\n"
     ]
    }
   ],
   "source": [
    "# First, we find the likelihood of having <100 sales of 500 sessions\n",
    "# We can find this from binomial cdf\n",
    "prob_sales_100_less = stats.binom.cdf(k=100, n=500, p=increased_purchase_rate_returning)\n",
    "print(\"probability of having <100 sales:\", prob_sales_100_less)"
   ]
  },
  {
   "cell_type": "code",
   "execution_count": 18,
   "id": "fc20a3d7",
   "metadata": {},
   "outputs": [
    {
     "name": "stdout",
     "output_type": "stream",
     "text": [
      "probability of having at least 100 sales: 0.9012221339037266\n"
     ]
    }
   ],
   "source": [
    "# Then, to find the probability of having 100 or more sales is 1-prob_sales_100_less\n",
    "prob_at_least_100_sales = 1 - prob_sales_100_less\n",
    "print(\"probability of having at least 100 sales:\", prob_at_least_100_sales)"
   ]
  },
  {
   "cell_type": "code",
   "execution_count": 19,
   "id": "8db82bf1",
   "metadata": {
    "scrolled": true
   },
   "outputs": [
    {
     "data": {
      "image/png": "[encoded data removed]",
      "text/plain": [
       "<Figure size 640x480 with 1 Axes>"
      ]
     },
     "metadata": {},
     "output_type": "display_data"
    }
   ],
   "source": [
    "# Plotting the binomial probability distribution\n",
    "n_sessions = 500\n",
    "k_values = np.arange(500) + 1\n",
    "p_binom_values = [stats.binom.pmf(k, n_sessions, increased_purchase_rate_returning) for k in k_values ] \n",
    "plt.bar(k_values, p_binom_values) \n",
    "plt.vlines(100, 0, 0.08, color='r', linestyle='dashed', label=\"sales=100\")\n",
    "plt.xlabel(\"number of sales\")\n",
    "plt.ylabel(\"probability\")\n",
    "plt.legend()\n",
    "plt.show()"
   ]
  },
  {
   "cell_type": "markdown",
   "id": "fb228fa2",
   "metadata": {},
   "source": [
    "### Does the campaign actually increase the purchase rate for returning customers to 22.49% or more, and is the observed improvement statistically significant?"
   ]
  },
  {
   "cell_type": "markdown",
   "id": "fce83d8f",
   "metadata": {},
   "source": [
    "# A/B Testing for Marketing Campaign Effectiveness\n",
    "\n",
    "## **Introduction**\n",
    "\n",
    "In the competitive world of online shopping, improving customer engagement and increasing purchase rates are critical goals. Data analysis revealed a key insight: **Returning customers have a lower purchase rate around 19.56% compared to new customers around 27.34%**. This is concerning because returning customers often contribute significantly to long-term revenue and loyalty.\n",
    "\n",
    "To address this, we decided to test whether a **new marketing campaign** (e.g., personalized offers or discounts) could boost the purchase rate of returning customers. However, simply observing changes in purchase rates after implementing the campaign does not guarantee that the campaign caused the improvement. This is where **A/B testing** comes in.\n",
    "\n",
    "---\n",
    "\n",
    "## **Why A/B Testing?**\n",
    "\n",
    "A/B testing allows us to isolate the **causal effect** of the campaign by creating two comparable groups:\n",
    "1. **Control Group (A):** Customers who do not receive the campaign (baseline behavior).\n",
    "2. **Treatment Group (B):** Customers who receive the campaign.\n",
    "\n",
    "### **Key Benefits of A/B Testing:**\n",
    "- **Random Assignment**: Ensures the groups are comparable and minimizes biases.\n",
    "- **Causal Inference**: Helps determine whether the observed changes are due to the campaign or random fluctuations.\n",
    "- **Actionable Insights**: Quantifies the effectiveness of the campaign to guide decision-making.\n",
    "\n",
    "### **Metrics of Success**\n",
    "- The primary metric is the **purchase rate** (proportion of sessions leading to purchases).\n",
    "- Success is defined as a **statistically significant** increase in the purchase rate for the Treatment Group (B) compared to the Control Group (A).\n",
    "\n",
    "### **Hypotheses**\n",
    "- **Null Hypothesis (\\(H_0\\))**: The campaign does not affect the purchase rate of returning customers.\n",
    "- **Alternative Hypothesis (\\(H_1\\))**: The campaign increases the purchase rate of returning customers.\n"
   ]
  },
  {
   "cell_type": "code",
   "execution_count": 24,
   "id": "79dbba0c",
   "metadata": {},
   "outputs": [
    {
     "name": "stdout",
     "output_type": "stream",
     "text": [
      "Simulated Purchase Rates:\n",
      "Group\n",
      "A    0.194519\n",
      "B    0.220849\n",
      "Name: Simulated_Purchase, dtype: float64\n",
      "\n",
      "Chi-Squared Statistic: 3.761876874525406\n",
      "P-Value: 0.052433691490813915\n",
      "The difference in purchase rates is not statistically significant. The campaign's effect cannot be confirmed.\n"
     ]
    }
   ],
   "source": [
    "# Create a true copy of the filtered DataFrame\n",
    "returning_customers = shopping_Nov_Dec[shopping_Nov_Dec['CustomerType'] == 'Returning_Customer'].copy()\n",
    "\n",
    "# Assign Control (A) and Treatment (B) groups\n",
    "np.random.seed(42)  # Reproducibility\n",
    "returning_customers.loc[:, 'Group'] = np.random.choice(['A', 'B'], size=returning_customers.shape[0])\n",
    "\n",
    "# Define the adjusted purchase rate for Treatment (B) with a 15% boost\n",
    "required_improvement = 0.15  # 15% increase\n",
    "adjusted_rate_treatment = purchase_rate_returning * (1 + required_improvement)\n",
    "\n",
    "# Simulate purchases based on group\n",
    "def simulate_purchase(row):\n",
    "    if row['Group'] == 'B':  # Treatment Group\n",
    "        return 1 if np.random.rand() < adjusted_rate_treatment else 0\n",
    "    else:  # Control Group\n",
    "        return 1 if np.random.rand() < purchase_rate_returning else 0\n",
    "\n",
    "returning_customers.loc[:, 'Simulated_Purchase'] = returning_customers.apply(simulate_purchase, axis=1)\n",
    "\n",
    "# Calculate Purchase Rates\n",
    "group_purchase_rates = returning_customers.groupby('Group')['Simulated_Purchase'].mean()\n",
    "print(\"Simulated Purchase Rates:\")\n",
    "print(group_purchase_rates)\n",
    "\n",
    "# Perform Chi-Squared Test\n",
    "contingency_table = pd.crosstab(returning_customers['Group'], returning_customers['Simulated_Purchase'])\n",
    "chi2, p_value, dof, expected = stats.chi2_contingency(contingency_table)\n",
    "\n",
    "# Interpretation\n",
    "print(\"\\nChi-Squared Statistic:\", chi2)\n",
    "print(\"P-Value:\", p_value)\n",
    "\n",
    "if p_value < 0.05:\n",
    "    print(\"The difference in purchase rates is statistically significant. The campaign is effective.\")\n",
    "else:\n",
    "    print(\"The difference in purchase rates is not statistically significant. The campaign's effect cannot be confirmed.\")"
   ]
  },
  {
   "cell_type": "markdown",
   "id": "35ab3cd1",
   "metadata": {},
   "source": [
    "**Conclusion:**\n",
    "\n",
    "- The observed improvement (22.08% vs. 19.45%) **is not statistically significant** at the 5% level.We cannot confidently attribute the increased purchase rate to the campaign.\n",
    "- The campaign increased purchase rates slightly (22.08% vs. 19.45%), but the difference is too small to be confident that the campaign caused this change."
   ]
  },
  {
   "cell_type": "code",
   "execution_count": null,
   "id": "30977787",
   "metadata": {},
   "outputs": [],
   "source": []
  }
 ],
 "metadata": {
  "editor": "DataLab",
  "kernelspec": {
   "display_name": "Python 3 (ipykernel)",
   "language": "python",
   "name": "python3"
  },
  "language_info": {
   "codemirror_mode": {
    "name": "ipython",
    "version": 3
   },
   "file_extension": ".py",
   "mimetype": "text/x-python",
   "name": "python",
   "nbconvert_exporter": "python",
   "pygments_lexer": "ipython3",
   "version": "3.11.0"
  }
 },
 "nbformat": 4,
 "nbformat_minor": 5
}
